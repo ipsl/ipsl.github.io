{
 "cells": [
  {
   "cell_type": "code",
   "execution_count": 3,
   "metadata": {},
   "outputs": [
    {
     "name": "stdout",
     "output_type": "stream",
     "text": [
      "Modules Imported!\n"
     ]
    }
   ],
   "source": [
    "# loading some libraries\n",
    "\n",
    "%matplotlib inline\n",
    "import matplotlib.pyplot as plt\n",
    "import matplotlib.patches as patches\n",
    "import numpy as np\n",
    "import scipy as sp\n",
    "import scipy.stats as st\n",
    "from math import sqrt\n",
    "print(\"Modules Imported!\")"
   ]
  },
  {
   "cell_type": "markdown",
   "metadata": {},
   "source": [
    "### A simple Bayesian Network: Conditional and joint distributions\n",
    "Let us construct a simple network in which Traffic and Charlie influence Bob being on time or not as discussed in class. One of the goals of this excercise is just to get used to Numpy arrays. \n",
    "\n",
    "We let"
   ]
  },
  {
   "cell_type": "code",
   "execution_count": 193,
   "metadata": {
    "collapsed": true
   },
   "outputs": [],
   "source": [
    "TrafficPD = np.zeros(2)\n",
    "TrafficPD[0] = .65\n",
    "TrafficPD[1] = 1 - TrafficPD[0]\n",
    "\n",
    "CharliePD = np.zeros(2)\n",
    "CharliePD[0] = .9\n",
    "CharliePD[1] = 1 - CharliePD[0]\n",
    "\n",
    "BobCPD = np.zeros((2,2,2)) # 1st index Bob, 2nd index Charlie, 3rd index Traffic: BobCPD(i,j,k) = Pr(B=i|C=j,T=k)\n",
    "BobCPD[1] = [[0.1,1/3],[1/4,1]]\n",
    "BobCPD[0] = 1 - BobCPD[1]"
   ]
  },
  {
   "cell_type": "markdown",
   "metadata": {},
   "source": [
    "Find the following quantities: \n",
    "- joint probability distribution for all variables\n",
    "- $\\Pr(T=1\\mid B=1)$\n",
    "- $\\Pr(T=1\\mid B=1,C=1)$"
   ]
  },
  {
   "cell_type": "code",
   "execution_count": null,
   "metadata": {
    "collapsed": true
   },
   "outputs": [],
   "source": [
    "AllPD = np.zeros((2,2,2)) # AllPD(i,j,k) = Pr(B=i,C=j,T=k)\n",
    "# ..."
   ]
  },
  {
   "cell_type": "markdown",
   "metadata": {},
   "source": [
    "## MRF denoising\n",
    "In this excercise, we will use an iterative approach to denoise an image. \n",
    "\n",
    "The first code segment below allows us to plot an image that is represented by a square Numpy binary array. Each cell of the array represents a \"pixel\". The second generates and plots such an image. We then add to this image some noise. "
   ]
  },
  {
   "cell_type": "code",
   "execution_count": 4,
   "metadata": {
    "collapsed": true
   },
   "outputs": [],
   "source": [
    "def draw(A):\n",
    "    n = len(A)\n",
    "    fig,ax = plt.subplots()\n",
    "    ax.set_aspect(\"equal\")\n",
    "    for i in range(n):\n",
    "        for j in range(n):\n",
    "            if A[i,j]==1:\n",
    "                ax.add_patch(\n",
    "                    patches.Rectangle(\n",
    "                        (i/n, j/n),\n",
    "                        1/n,\n",
    "                        1/n\n",
    "                    )\n",
    "                )\n"
   ]
  },
  {
   "cell_type": "code",
   "execution_count": 19,
   "metadata": {},
   "outputs": [
    {
     "data": {
      "image/png": "[encoded data removed]",
      "text/plain": [
       "<matplotlib.figure.Figure at 0x2c494675c50>"
      ]
     },
     "metadata": {},
     "output_type": "display_data"
    },
    {
     "data": {
      "image/png": "[encoded data removed]",
      "text/plain": [
       "<matplotlib.figure.Figure at 0x2c4953d7358>"
      ]
     },
     "metadata": {},
     "output_type": "display_data"
    }
   ],
   "source": [
    "a = 20 # when testing choose a smaller number for a, say a = 6, for faster computation\n",
    "n = 4*a+1\n",
    "x = np.zeros((n,n))\n",
    "x[:,2*a-1:2*a+2] = 1\n",
    "x[a-1:3*a+2,a-1:a+2] = 1\n",
    "x[a-1:3*a+2,3*a-1:3*a+2] = 1\n",
    "x = x + np.transpose(x)\n",
    "x = x>0\n",
    "N = st.bernoulli.rvs(0.02,size=(n,n))\n",
    "y = np.mod(x + N, 2)\n",
    "\n",
    "# switching from {0,1} to {-1,+1}\n",
    "x = 2*x-1\n",
    "y = 2*y-1\n",
    "draw(x)\n",
    "draw(y)"
   ]
  },
  {
   "cell_type": "markdown",
   "metadata": {},
   "source": [
    "Now suppose that the true image and its noisy version have a joint Boltzmann distribution, $\\Pr(x,y)=e^{-E(x,y)}$, with energy function $E(x,y) = -\\sum_{i,j} x_ix_j - 2 \\sum_i x_iy_i$, where the range of the first sum is over adjacent pixels. \n",
    "\n",
    "Write a function that denoises the noisy image $y$ as follows. This is done by first setting $\\hat x = y$ and then at each step, a pixel is chosen, i.e., some $\\hat x_i$. The value of $\\hat x_i$ is chosen so that $\\Pr(\\hat x, y)=e^{-E(\\hat x,y)}$ is maximized. The order of pixels that are chosen may be arbitrary but here let us choose them by scanning each row, and go through the whole image a couple of times. Denoise $y$ and plot both $\\hat x$ and $y$."
   ]
  },
  {
   "cell_type": "code",
   "execution_count": 20,
   "metadata": {
    "collapsed": true
   },
   "outputs": [],
   "source": [
    "def denoise(y):\n",
    "    xhat = np.copy(y) # need to create a copy so that y is not altered. Python is weird that way!\n",
    "    # ...\n",
    "    return xhat"
   ]
  },
  {
   "cell_type": "code",
   "execution_count": 21,
   "metadata": {
    "scrolled": false
   },
   "outputs": [
    {
     "data": {
      "image/png": "[encoded data removed]",
      "text/plain": [
       "<matplotlib.figure.Figure at 0x2c4950fef98>"
      ]
     },
     "metadata": {},
     "output_type": "display_data"
    },
    {
     "data": {
      "image/png": "[encoded data removed]",
      "text/plain": [
       "<matplotlib.figure.Figure at 0x2c495cea860>"
      ]
     },
     "metadata": {},
     "output_type": "display_data"
    }
   ],
   "source": [
    "draw(y)\n",
    "xhat = denoise(y)\n",
    "draw(xhat)"
   ]
  }
 ],
 "metadata": {
  "kernelspec": {
   "display_name": "Python 2",
   "language": "python",
   "name": "python2"
  },
  "language_info": {
   "codemirror_mode": {
    "name": "ipython",
    "version": 2
   },
   "file_extension": ".py",
   "mimetype": "text/x-python",
   "name": "python",
   "nbconvert_exporter": "python",
   "pygments_lexer": "ipython2",
   "version": "2.7.13"
  }
 },
 "nbformat": 4,
 "nbformat_minor": 2
}
