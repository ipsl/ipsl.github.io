{
 "cells": [
  {
   "cell_type": "markdown",
   "metadata": {},
   "source": [
    "## Regression Miniproject"
   ]
  },
  {
   "cell_type": "markdown",
   "metadata": {},
   "source": [
    "This miniproject is for groups of size 2.\n",
    "\n",
    "Find a dataset appropriate for regression analysis and, well, analyze it using regression:\n",
    "- Identify the input variables and the output variable. For simplicity, ignore categorical variables in your data. Also if one of the variables that you care about has invalid values in a row (e.g., '?' or nan), discard that row. Your dataset should be such that after this step you have at least 4 input variables.\n",
    "- Find the coefficients $\\theta$, assuming the sum of squares of errors as your cost function.\n",
    "- Identify which 2 input variables give the smallest error.\n",
    "- Is there anything that your analysis tells you that you did not know before?\n",
    "\n",
    "Some possible sources for data:\n",
    "- [UCI Machine Learning Repository](http://archive.ics.uci.edu/ml/datasets.html?task=reg)\n",
    "- [Scraping the web with beautifulsoup](https://www.crummy.com/software/BeautifulSoup/)\n",
    "- [Kaggle](https://www.kaggle.com/datasets)\n",
    "\n",
    "**Your team must submit the following:**\n",
    "- Submit any code you write, either in this notebook or as a seprate file.\n",
    "- Summarize your work in one or two slides in this [Google Presenation](https://docs.google.com/presentation/d/1Mh_TxKfMGvK6HWPiNTlNUFuk2x7uvaqisHt3W_Hw9LM/edit?usp=sharing). All groups will add their work to the same presenation and so everyone can see work done by others. \n",
    "\n",
    "**Grading:**\n",
    "- This miniproject has weight equal to half of a regular lab.\n",
    "- 80% of the grade will be based on my evaluation of your work.\n",
    "- 20% of the grade will be based on peer evaluation (more instructions will be provided later)."
   ]
  },
  {
   "cell_type": "code",
   "execution_count": null,
   "metadata": {
    "collapsed": true
   },
   "outputs": [],
   "source": []
  }
 ],
 "metadata": {
  "kernelspec": {
   "display_name": "Python 3",
   "language": "python",
   "name": "python3"
  },
  "language_info": {
   "codemirror_mode": {
    "name": "ipython",
    "version": 3
   },
   "file_extension": ".py",
   "mimetype": "text/x-python",
   "name": "python",
   "nbconvert_exporter": "python",
   "pygments_lexer": "ipython3",
   "version": "3.6.2"
  }
 },
 "nbformat": 4,
 "nbformat_minor": 2
}
