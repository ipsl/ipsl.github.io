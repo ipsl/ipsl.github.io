{
 "cells": [
  {
   "cell_type": "code",
   "execution_count": 1,
   "metadata": {},
   "outputs": [
    {
     "name": "stdout",
     "output_type": "stream",
     "text": [
      "Modules Imported!\n"
     ]
    }
   ],
   "source": [
    "%matplotlib inline\n",
    "import matplotlib.pyplot as plt\n",
    "import numpy as np\n",
    "import scipy as sp\n",
    "import scipy.stats as st\n",
    "import scipy.linalg as la\n",
    "from math import sqrt\n",
    "print(\"Modules Imported!\")"
   ]
  },
  {
   "cell_type": "code",
   "execution_count": 2,
   "metadata": {
    "collapsed": true
   },
   "outputs": [],
   "source": [
    "# plot helper function for plotting a dataset along with the boundaries of classifiers\n",
    "def classPlot(thetas):\n",
    "    # thetas = list of vectors theta, where each theta has three elements\n",
    "    colors = ['k','g','m','y']\n",
    "    fig, ax = plt.subplots()\n",
    "    ax.scatter(X0[:,0],X0[:,1],color='b',alpha=.5) # X0: x-coordinates for class 0 datapoints\n",
    "    ax.scatter(X1[:,0],X1[:,1],color='r',alpha=.5) # X1: x-coordinates for class 1 datapoints\n",
    "    ylim = ax.get_ylim()\n",
    "    x0_range = np.array(ax.get_xlim())\n",
    "    for i in range(len(thetas)):\n",
    "        theta = thetas[i]\n",
    "        x1_range = [(-theta[2] - theta[0]*a)/theta[1] for a in x0_range]\n",
    "        ax.plot(x0_range,x1_range,colors[i])\n",
    "        ax.set_ylim(ylim);"
   ]
  },
  {
   "cell_type": "markdown",
   "metadata": {},
   "source": [
    "## Binary Classification with Gaussian Class-Conditionals\n",
    "(25 pts) Build and plot a classiffier assuming that the parameters of the generative model are known. First, we will generate the data for each class by drawing random samples from a multivariate normal distribution using the following parameters:\n",
    "```\n",
    "m0 = [0,0] # mean of class 0\n",
    "m1 = [2,2] # mean of class 1\n",
    "K = [[1,0],[0,1]] # Covariance matrix for both classes\n",
    "N = 250 # number of data points\n",
    "pi = 1/2 # the probability that a data point belongs to class 1\n",
    "```\n",
    "Next, assuming that the parameters for the generative model are known, we build a binary classifier using Gaussian Class-Conditionals. To be consistent with following problems, formulate your classifier as:\n",
    "\n",
    "$$ \\theta_0 x_0 + \\theta_1 x_1 + \\theta_2 \\gtrless 0.$$\n",
    "\n",
    "We then plot the data points and the line indicating the decision boundary in one plot, using the plot helper function classPlot defined above. The input for this function is a list of vectors representing classifiers, each of the form theta=[$\\theta_0$,$\\theta_1$,$\\theta_2$]."
   ]
  },
  {
   "cell_type": "code",
   "execution_count": 4,
   "metadata": {},
   "outputs": [
    {
     "data": {
      "image/png": "[encoded data removed]",
      "text/plain": [
       "<matplotlib.figure.Figure at 0x27d1c147208>"
      ]
     },
     "metadata": {},
     "output_type": "display_data"
    }
   ],
   "source": [
    "m0 = np.array([0,0])\n",
    "m1 = np.array([2,2])\n",
    "K = np.array([[1,0],[0,1]])\n",
    "\n",
    "N = 250\n",
    "pi = 1/2\n",
    "N1 = st.binom.rvs(N,pi)\n",
    "N0 = N - N1\n",
    "X0 = ...\n",
    "X1 = ...\n",
    "..."
   ]
  },
  {
   "cell_type": "markdown",
   "metadata": {},
   "source": [
    "## Maximum Likelihood\n",
    "(25 pts)Similar to the previous part, we are going to build a binary classifier over the same dataset but this time we will be using ML to estimate the parameters of the generative model from the data. i.e. the values of pi, m0, m1 and sigma are all computed from the data.\n",
    "\n",
    "we then plot the data points and the ML decision line along with the true decision line (obtained in the previous part) in one plot, using the same plot helper function classPlot."
   ]
  },
  {
   "cell_type": "code",
   "execution_count": 4,
   "metadata": {
    "collapsed": true
   },
   "outputs": [],
   "source": [
    "# solution"
   ]
  },
  {
   "cell_type": "markdown",
   "metadata": {},
   "source": [
    "## Gradient Descent for Logistic Regression\n",
    "(25 pts) Let us assume a logistic regression model. First, we modify the existing data points from the previous parts by concatanting a 1 to each data point (so each data point is of the form x = [x0,x1,1]).\n",
    "\n",
    "We then use gradient descent to find the optimized values for theta with 1000 iterations with a step size equal to $0.001$ to build the classifier.\n",
    "\n",
    "Similar to the previous part we plot this classifier generated using Gradient descent along with the other two classifiers in a single plot."
   ]
  },
  {
   "cell_type": "code",
   "execution_count": null,
   "metadata": {
    "collapsed": true
   },
   "outputs": [],
   "source": [
    "# solution"
   ]
  },
  {
   "cell_type": "markdown",
   "metadata": {},
   "source": [
    "## Stochastic Gradient Descent for Logistic Regression\n",
    "(25 pts) In this part, we replace the Gardient Descent from the previous part with a Stochastic Gradient Descent using a step size of $t^{-3/4}$ and 1000 iterations to obtain the optimised value of theta. Plot the classifier so obtained along with the previously computed classfiers using the helper function classPlot."
   ]
  },
  {
   "cell_type": "code",
   "execution_count": null,
   "metadata": {
    "collapsed": true
   },
   "outputs": [],
   "source": [
    "# solution"
   ]
  }
 ],
 "metadata": {
  "kernelspec": {
   "display_name": "Python 3",
   "language": "python",
   "name": "python3"
  },
  "language_info": {
   "codemirror_mode": {
    "name": "ipython",
    "version": 3
   },
   "file_extension": ".py",
   "mimetype": "text/x-python",
   "name": "python",
   "nbconvert_exporter": "python",
   "pygments_lexer": "ipython3",
   "version": "3.6.2"
  }
 },
 "nbformat": 4,
 "nbformat_minor": 2
}
