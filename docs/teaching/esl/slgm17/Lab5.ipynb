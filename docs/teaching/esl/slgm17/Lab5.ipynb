{
 "cells": [
  {
   "cell_type": "markdown",
   "metadata": {
    "collapsed": true
   },
   "source": [
    "# Motif Discovery with EM\n",
    "Implement the EM algorithm for motif discovery as discussed in __Section 2__ of the paper [The EM Algorithm and the Rise of Computational Biology](http://www.people.fas.harvard.edu/~junliu/TechRept/10folder/Fan&Yuan&Liu10.pdf). Code for setting up the problem, simulating sequences (data), and comparing results is given. The notation is somewhat cumbersome, as is usually the case with EM. Also, not all steps are explicit in the paper, but for the most part the derivation is given. \n",
    "\n",
    "__Note:__ The variable $Z$ in the code below is related to $\\Gamma$ in the paper."
   ]
  },
  {
   "cell_type": "code",
   "execution_count": 1,
   "metadata": {},
   "outputs": [
    {
     "name": "stdout",
     "output_type": "stream",
     "text": [
      "Modules Imported!\n"
     ]
    }
   ],
   "source": [
    "%matplotlib inline\n",
    "import matplotlib.pyplot as plt\n",
    "import numpy as np\n",
    "import scipy as sp\n",
    "import scipy.stats as st\n",
    "from collections import Counter\n",
    "print(\"Modules Imported!\")"
   ]
  },
  {
   "cell_type": "code",
   "execution_count": 2,
   "metadata": {
    "collapsed": true
   },
   "outputs": [],
   "source": [
    "# Setting up the constants\n",
    "w = 6 # length of motif\n",
    "N = 20 # number of sequences\n",
    "len_lu = [w,w+10] # lower and upper bound on the lengths of sequences\n",
    "m = 4 # alphabet size\n"
   ]
  },
  {
   "cell_type": "code",
   "execution_count": 3,
   "metadata": {
    "collapsed": true
   },
   "outputs": [],
   "source": [
    "# generating theta\n",
    "def gen_theta(w,m):\n",
    "    theta = [[0]*m]*(w+1)\n",
    "    for i in range(w+1):\n",
    "        th = np.concatenate(([0],st.uniform.rvs(0,1,m-1),[1]))\n",
    "        th = np.sort(th)\n",
    "        theta[i] = np.diff(th)\n",
    "    return theta"
   ]
  },
  {
   "cell_type": "code",
   "execution_count": 4,
   "metadata": {
    "collapsed": true
   },
   "outputs": [],
   "source": [
    "# generating RVs and sequences\n",
    "\n",
    "# generating one sequence\n",
    "def genSeq(n,p): \n",
    "    # Generate an iid random sequences of length n over \n",
    "    # the alphabet 0,1,...,|p|-1 where the probability of i is p[i]\n",
    "    y = [0] * n\n",
    "    for i in range(n):\n",
    "        r = st.uniform.rvs()\n",
    "        y[i] = np.sum(r>np.cumsum(p))\n",
    "    return y\n",
    "\n",
    "# generate N sequences containing motifs at random positions\n",
    "def genSeqMotif(theta,N,len_lu):\n",
    "    w = len(theta) - 1\n",
    "    Y = [[]]*N # sequences\n",
    "    Z = [0]*N # start positions of motifs\n",
    "    L = [0]*N # lengths of sequences\n",
    "    for i in range(N):\n",
    "        L[i] = st.randint.rvs(len_lu[0],len_lu[1]+1)\n",
    "        Z[i] = st.randint.rvs(0,L[i]-w+1)\n",
    "        y_nonmotif_pre = genSeq(Z[i],theta[0])\n",
    "        y_motif = [genSeq(1,theta[i+1])[0] for i in range(w)]     \n",
    "        y_nonmotif_post = genSeq(L[i]-Z[i]-w, theta[0])\n",
    "        Y[i] = np.concatenate((y_nonmotif_pre,y_motif,y_nonmotif_post)).astype(int)\n",
    "    return (Y,Z)"
   ]
  },
  {
   "cell_type": "code",
   "execution_count": 5,
   "metadata": {},
   "outputs": [],
   "source": [
    "# estimators\n",
    "\n",
    "# Below is the estimator with complete data. You can use some of this code for the incomplete data. However while here we \n",
    "# know the value of z as z=Z[i], for EM we need to do the computation for all possible z and take expectation. Understanding \n",
    "# completeDataML is a good first step for writing the EM code\n",
    "def completeDataML(Y,Z,w,m):\n",
    "    thetaHatML = [[0]*m] * (w+1)\n",
    "    hn = np.array([[0]*m] * (w+1)) # composition for one sequence\n",
    "    h = np.array([[0]*m] * (w+1)) # compostion for all sequences\n",
    "    N = len(Y)\n",
    "    for n in range(N):\n",
    "        z = Z[n]\n",
    "        y = Y[n]\n",
    "        y_nonmotif = np.concatenate((y[0:z],y[z+w:])).astype(int)\n",
    "        y_motif = y[z:z+w]\n",
    "        hn[0] = [Counter(y_nonmotif)[j] for j in range(m)]\n",
    "        for i in range(1,w+1):\n",
    "            hn[i] = [Counter([y_motif[i-1]])[j] for j in range(m)]\n",
    "        h += hn\n",
    "    thetaML = [h[i]/sum(h[i]) for i in range(w+1)]\n",
    "    return thetaML\n",
    "    \n",
    "    \n",
    "\n",
    "\n",
    "# EM motif discovery, stating with theta_start and doing itr_max iterations\n",
    "def motifDiscoveryEM(Y,theta_start,itr_max):\n",
    "    theta_current = theta_start\n",
    "    w = len(theta_current) - 1\n",
    "    m = len(theta_current[0])\n",
    "    for itr in range(10):\n",
    "        # solution\n",
    "        # This code segment could get long. It may be helpful to package some of it in a function\n",
    "        ...\n",
    "    return(theta_current)"
   ]
  },
  {
   "cell_type": "code",
   "execution_count": 6,
   "metadata": {
    "scrolled": false
   },
   "outputs": [
    {
     "name": "stdout",
     "output_type": "stream",
     "text": [
      "\n",
      "--\n",
      "True values:\n",
      " [[ 0.29  0.48  0.19  0.04]\n",
      " [ 0.14  0.07  0.78  0.01]\n",
      " [ 0.07  0.01  0.83  0.09]\n",
      " [ 0.09  0.29  0.16  0.46]\n",
      " [ 0.04  0.39  0.24  0.33]\n",
      " [ 0.06  0.13  0.25  0.55]\n",
      " [ 0.28  0.01  0.65  0.06]]\n",
      "\n",
      "ML estimates:\n",
      " [[ 0.26  0.45  0.26  0.03]\n",
      " [ 0.15  0.05  0.75  0.05]\n",
      " [ 0.1   0.    0.85  0.05]\n",
      " [ 0.3   0.25  0.1   0.35]\n",
      " [ 0.05  0.15  0.35  0.45]\n",
      " [ 0.05  0.1   0.4   0.45]\n",
      " [ 0.25  0.    0.75  0.  ]]\n",
      "\n",
      "--\n",
      "True values:\n",
      " [[ 0.25  0.25  0.25  0.25]\n",
      " [ 1.    0.    0.    0.  ]\n",
      " [ 0.2   0.    0.    0.8 ]\n",
      " [ 0.    0.5   0.    0.5 ]\n",
      " [ 0.3   0.    0.7   0.  ]\n",
      " [ 0.2   0.3   0.    0.5 ]\n",
      " [ 0.1   0.    0.    0.9 ]]\n",
      "\n",
      "ML estimates:\n",
      " [[ 0.26  0.25  0.26  0.22]\n",
      " [ 1.    0.    0.    0.  ]\n",
      " [ 0.05  0.    0.    0.95]\n",
      " [ 0.    0.55  0.    0.45]\n",
      " [ 0.2   0.    0.8   0.  ]\n",
      " [ 0.2   0.4   0.    0.4 ]\n",
      " [ 0.1   0.    0.    0.9 ]]\n"
     ]
    }
   ],
   "source": [
    "theta_start = [[1/m]*m]*(w+1)\n",
    "np.set_printoptions(precision=2,suppress=True) # printing prettier matrices\n",
    "\n",
    "# with random theta, do not change the seed in your final submission\n",
    "np.random.seed(seed=31)\n",
    "theta = gen_theta(w,m)\n",
    "(Y,Z) = genSeqMotif(theta,N,len_lu)\n",
    "thetaML = completeDataML(Y,Z,w,m)\n",
    "thetaEM = motifDiscoveryEM(Y,theta_start,10)\n",
    "print('\\n--\\nTrue values:\\n',np.matrix(theta))\n",
    "print('\\nML estimates:\\n',np.matrix(thetaML))\n",
    "# print('\\nEM estimates:\\n',np.matrix(thetaEM))\n",
    "\n",
    "# with theta given as below\n",
    "theta = [[0.25,0.25,0.25,0.25],\n",
    "         [1,0,0,0],\n",
    "         [0.2,0,0,0.8],\n",
    "         [0,.5,0,.5],\n",
    "         [.3,0,.7,0],\n",
    "         [0.2,0.3,0,0.5],\n",
    "         [0.1,0,0,0.9]]\n",
    "(Y,Z) = genSeqMotif(theta,N,len_lu)\n",
    "thetaML = completeDataML(Y,Z,w,m)\n",
    "thetaEM = motifDiscoveryEM(Y,theta_start,10)\n",
    "print('\\n--\\nTrue values:\\n',np.matrix(theta))\n",
    "print('\\nML estimates:\\n',np.matrix(thetaML))\n",
    "# print('\\nEM estimates:\\n',np.matrix(thetaEM))"
   ]
  },
  {
   "cell_type": "code",
   "execution_count": null,
   "metadata": {
    "collapsed": true
   },
   "outputs": [],
   "source": []
  }
 ],
 "metadata": {
  "anaconda-cloud": {},
  "kernelspec": {
   "display_name": "Python [default]",
   "language": "python",
   "name": "python3"
  },
  "language_info": {
   "codemirror_mode": {
    "name": "ipython",
    "version": 3
   },
   "file_extension": ".py",
   "mimetype": "text/x-python",
   "name": "python",
   "nbconvert_exporter": "python",
   "pygments_lexer": "ipython3",
   "version": "3.5.2"
  }
 },
 "nbformat": 4,
 "nbformat_minor": 1
}
