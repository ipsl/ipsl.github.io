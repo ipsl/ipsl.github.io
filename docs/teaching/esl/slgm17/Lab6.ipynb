{
 "cells": [
  {
   "cell_type": "code",
   "execution_count": null,
   "metadata": {},
   "outputs": [],
   "source": [
    "%matplotlib inline\n",
    "import matplotlib.pyplot as plt\n",
    "import numpy as np\n",
    "import scipy as sp\n",
    "import scipy.stats as st\n",
    "from math import sqrt\n",
    "print(\"Modules Imported!\")"
   ]
  },
  {
   "cell_type": "markdown",
   "metadata": {},
   "source": [
    "Grading: $\\min(p,100)/100$, $p$ is the number of points out of 105 available pts.\n",
    "# The Three Problems of Hidden Markov Models\n",
    "In this excercise, we will implement algorithms for Evaluation, Decoding, and Learning problems for hidden Markov Models (HMMs).\n",
    "## Set up\n",
    "We consider a Markov chain with two states $\\{0,1\\}$. Denote the state of the Markov chain at time $t$ as $z_t$, for $t=0,1,\\dotsc,T-1$. At each time point we get a noisy version $w_t$ of the state $z_t$. Let the transition and emission probabilities be denoted by $A=(A_{ij})$ and $B=(B_{ij})$, respectively, where $A_{ij}=\\Pr(z_t=j\\mid z_{t-1}=i)$ and $B_{ij}=\\Pr(w_t=j\\mid z_{t}=i)$."
   ]
  },
  {
   "cell_type": "markdown",
   "metadata": {},
   "source": [
    "## Generating data\n",
    "A function for generating data is given below. This function will be used for testing purposes. Note that `z[0]=1` with probability $A_{01}=$ `A[0,1]`. This is equivalent to assuming that at time $t=-1$, the chain was in state $0$. Note that this is different from the setting discussed in class where `z[0]=1` with probability $\\pi_1$. Later when you formulate EM for this problem, you should take this difference into account."
   ]
  },
  {
   "cell_type": "code",
   "execution_count": null,
   "metadata": {
    "collapsed": true
   },
   "outputs": [],
   "source": [
    "def hmm(A,B,T=15):\n",
    "    \n",
    "    z = np.zeros(T,dtype=np.int8)\n",
    "    w = np.zeros(T,dtype=np.int8)\n",
    "\n",
    "    z[0] = st.bernoulli.rvs(A[0,1])\n",
    "    w[0] = st.bernoulli.rvs(B[z[0],1])\n",
    "\n",
    "\n",
    "    for t in range(1,T):\n",
    "        z[t] = st.bernoulli.rvs(A[z[t-1],1])\n",
    "        w[t] = st.bernoulli.rvs(B[z[t],1])\n",
    "    \n",
    "    return z,w"
   ]
  },
  {
   "cell_type": "markdown",
   "metadata": {},
   "source": [
    "## Forward-Backward\n",
    "(20 pts) Implement the forward-backward (sum-product) algorithm as function."
   ]
  },
  {
   "cell_type": "code",
   "execution_count": null,
   "metadata": {
    "collapsed": true
   },
   "outputs": [],
   "source": [
    "def hmmForwardBackward(A,B,w):\n",
    "    T = len(w)\n",
    "    # ...\n",
    "    return alpha, beta, gamma"
   ]
  },
  {
   "cell_type": "markdown",
   "metadata": {},
   "source": [
    "## Transition Probabilities\n",
    "(10 pts) Using the previous part, implement a function that finds $\\zeta_t(i,j)=\\Pr(z_t=i,z_{t+1}=j|w,A,B)$."
   ]
  },
  {
   "cell_type": "code",
   "execution_count": null,
   "metadata": {
    "collapsed": true
   },
   "outputs": [],
   "source": [
    "def hmmTransition(A,B,w):\n",
    "    T = len(w)\n",
    "    alpha,beta,gamma = hmmForwardBackward(A,B,w)\n",
    "    # ...\n",
    "    return zeta"
   ]
  },
  {
   "cell_type": "markdown",
   "metadata": {},
   "source": [
    "## Viterbi Algorithm\n",
    "(30) Implement the Viterbi algorithm."
   ]
  },
  {
   "cell_type": "code",
   "execution_count": null,
   "metadata": {
    "collapsed": true
   },
   "outputs": [],
   "source": [
    "def hmmViterbi(A,B,w):\n",
    "    T = len(w)\n",
    "    # ...\n",
    "    return pathViterbi # this is a binary sequence determining the most likely sequence of hidden states given the observations"
   ]
  },
  {
   "cell_type": "markdown",
   "metadata": {},
   "source": [
    "---------------------\n",
    "Let $p=[p_0,p_1]$ where $p_i$ is the probability of transitioning to the other state from state $i$. That is \n",
    "\\begin{equation}\n",
    "A = \\left[\\begin{array}{c c}1-p_0 & p_0\\\\ p_1 & 1-p_1\\end{array}\\right]\n",
    "\\end{equation}\n",
    "\n",
    "Similarly, let $q=[q_0,q_1]$ where $q_i$ is the probability of an incorrect observation when in state $i$. That is \n",
    "\\begin{equation}\n",
    "B = \\left[\\begin{array}{c c}1-q_0 & q_0\\\\ q_1 & 1-q_1\\end{array}\\right]\n",
    "\\end{equation}\n",
    "\n",
    "With this setup, the code below produces plots of the hidden states, observations, estimates, etc. Run this code to produce these plots."
   ]
  },
  {
   "cell_type": "code",
   "execution_count": null,
   "metadata": {
    "scrolled": false
   },
   "outputs": [],
   "source": [
    "p = [.1,.01]\n",
    "q = [0.02,0.05]\n",
    "A = np.array([[1-p[0],p[0]],[p[1],1-p[1]]])\n",
    "B = np.array([[1-q[0],q[0]],[q[1],1-q[1]]])\n",
    "T = 100\n",
    "\n",
    "z,w = hmm(A,B,T)\n",
    "alpha,beta,gamma = hmmForwardBackward(A,B,w)\n",
    "zeta = hmmTransition(A,B,w)\n",
    "pathViterbi = hmmViterbi(A,B,w)\n",
    "\n",
    "# the first plot compares the hidden states with the observations (of course in a real-world problem, we would \n",
    "# not have access to the hidden states). \n",
    "plt.plot(z,'o')\n",
    "plt.plot(w,'x')\n",
    "# the second plot compares the hidden states with the probability that a hidden state = 1 and with the Viterbi path\n",
    "plt.figure()\n",
    "plt.plot(z,'o')\n",
    "plt.plot(gamma[:,1])\n",
    "plt.plot(pathViterbi,'+k')\n",
    "# the last plot, gives the probabilities for transitions. This is for example useful if we want to find out when \n",
    "# a change in the system has occurred, for example for detecting anomalies in networks\n",
    "plt.figure()\n",
    "plt.plot(zeta[:,0,1])"
   ]
  },
  {
   "cell_type": "markdown",
   "metadata": {},
   "source": [
    "(5 pts) Discuss the relationship between `gamma[:,1]` and `pathViterbi`. Is it correct to say whenever `gamma[t,1]>1/2` then `pathViterbi[t]=1`?"
   ]
  },
  {
   "cell_type": "markdown",
   "metadata": {},
   "source": [
    "#### solution:\n",
    "..."
   ]
  },
  {
   "cell_type": "markdown",
   "metadata": {},
   "source": [
    "## Baum-Welch (EM)\n",
    "(40 pts) Implement the EM algorithm to estimate $A$ and $B$. Note that as described above, one term in the equation is slightly different from what we discussed in class. Set the number of iterations at 50. Note the indeces of the hidden states may be swapped since EM has no way of determining the correct labeling (i.e., which state is called 0 and which state is called 1). Print the EM estimates and compare with the true values. Repeat the plots in the previous part with EM."
   ]
  },
  {
   "cell_type": "code",
   "execution_count": null,
   "metadata": {
    "scrolled": false
   },
   "outputs": [],
   "source": [
    "A_EM = np.random.rand(2,2)\n",
    "A_EM = A_EM/np.sum(A_EM,axis=1)[:,None]\n",
    "\n",
    "B_EM = np.random.rand(2,2)\n",
    "B_EM = B_EM/np.sum(B_EM,axis=1)[:,None]\n",
    "\n",
    "\n",
    "for it in range(50):\n",
    "    # ...\n",
    "\n",
    "\n",
    "\n",
    "print('\\nA_EM=\\n',A_EM)\n",
    "print('\\nA=\\n',A)\n",
    "\n",
    "print('\\nB_EM=\\n',B_EM)\n",
    "print('\\nB=\\n',B)\n",
    "\n",
    "# ..."
   ]
  }
 ],
 "metadata": {
  "kernelspec": {
   "display_name": "Python 3",
   "language": "python",
   "name": "python3"
  },
  "language_info": {
   "codemirror_mode": {
    "name": "ipython",
    "version": 3
   },
   "file_extension": ".py",
   "mimetype": "text/x-python",
   "name": "python",
   "nbconvert_exporter": "python",
   "pygments_lexer": "ipython3",
   "version": "3.6.0"
  }
 },
 "nbformat": 4,
 "nbformat_minor": 2
}
